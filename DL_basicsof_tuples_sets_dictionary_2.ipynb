{
  "nbformat": 4,
  "nbformat_minor": 0,
  "metadata": {
    "colab": {
      "name": "DL_basicsof_tuples_sets_dictionary-2.ipynb",
      "provenance": [],
      "collapsed_sections": [],
      "authorship_tag": "ABX9TyPk/HuFvuu06LelCaivkoZm",
      "include_colab_link": true
    },
    "kernelspec": {
      "name": "python3",
      "display_name": "Python 3"
    }
  },
  "cells": [
    {
      "cell_type": "markdown",
      "metadata": {
        "id": "view-in-github",
        "colab_type": "text"
      },
      "source": [
        "<a href=\"https://colab.research.google.com/github/Shambhavi-Gupta/DL_basicsof_tuples_sets_dictionary-2/blob/master/DL_basicsof_tuples_sets_dictionary_2.ipynb\" target=\"_parent\"><img src=\"https://colab.research.google.com/assets/colab-badge.svg\" alt=\"Open In Colab\"/></a>"
      ]
    },
    {
      "cell_type": "markdown",
      "metadata": {
        "id": "DBjPqBETt4j_",
        "colab_type": "text"
      },
      "source": [
        "#**Tuples**"
      ]
    },
    {
      "cell_type": "code",
      "metadata": {
        "id": "FFIh-CL0hRys",
        "colab_type": "code",
        "colab": {}
      },
      "source": [
        "name = 'iPhone 5s'\n",
        "is_android = False\n",
        "screen_size=4.3"
      ],
      "execution_count": null,
      "outputs": []
    },
    {
      "cell_type": "code",
      "metadata": {
        "id": "tRU-AzSsgSYz",
        "colab_type": "code",
        "colab": {}
      },
      "source": [
        "my_phone=[name , is_android , screen_size]"
      ],
      "execution_count": null,
      "outputs": []
    },
    {
      "cell_type": "code",
      "metadata": {
        "id": "W1-YD0JXhIv7",
        "colab_type": "code",
        "colab": {
          "base_uri": "https://localhost:8080/",
          "height": 34
        },
        "outputId": "9e6cabab-7567-4584-ce6f-11f6e317cf16"
      },
      "source": [
        "my_dads_phone = my_phone\n",
        "print(my_dads_phone)"
      ],
      "execution_count": null,
      "outputs": [
        {
          "output_type": "stream",
          "text": [
            "['iPhone 5s', False, 4.3]\n"
          ],
          "name": "stdout"
        }
      ]
    },
    {
      "cell_type": "code",
      "metadata": {
        "id": "8dMcebvlhKwa",
        "colab_type": "code",
        "colab": {
          "base_uri": "https://localhost:8080/",
          "height": 51
        },
        "outputId": "1f868ce1-f28e-4526-c437-b65b1a55568d"
      },
      "source": [
        "print(my_phone)\n",
        "print(my_dads_phone)"
      ],
      "execution_count": null,
      "outputs": [
        {
          "output_type": "stream",
          "text": [
            "['iPhone 5s', False, 4.3]\n",
            "['iPhone 5s', False, 4.3]\n"
          ],
          "name": "stdout"
        }
      ]
    },
    {
      "cell_type": "code",
      "metadata": {
        "id": "Y78EFcABhkNg",
        "colab_type": "code",
        "colab": {}
      },
      "source": [
        "my_phone[2] = 4\n",
        "my_dads_phone = list(my_phone)\n",
        "# alternative method: my_dads_phone = my_phone[:]"
      ],
      "execution_count": null,
      "outputs": []
    },
    {
      "cell_type": "code",
      "metadata": {
        "id": "NrjPpLSKhvwN",
        "colab_type": "code",
        "colab": {}
      },
      "source": [
        "my_phone[2] = 4.3"
      ],
      "execution_count": null,
      "outputs": []
    },
    {
      "cell_type": "code",
      "metadata": {
        "id": "i30gbEH2hzfQ",
        "colab_type": "code",
        "colab": {
          "base_uri": "https://localhost:8080/",
          "height": 51
        },
        "outputId": "0f4c0c0f-1c6a-444e-d5a5-b20c6f2de6fb"
      },
      "source": [
        "print(my_phone)\n",
        "print(my_dads_phone)"
      ],
      "execution_count": null,
      "outputs": [
        {
          "output_type": "stream",
          "text": [
            "['iPhone 5s', False, 4.3]\n",
            "['iPhone 5s', False, 4]\n"
          ],
          "name": "stdout"
        }
      ]
    },
    {
      "cell_type": "code",
      "metadata": {
        "id": "ooCY_jnyi20f",
        "colab_type": "code",
        "colab": {
          "base_uri": "https://localhost:8080/",
          "height": 51
        },
        "outputId": "f1ae767e-deb1-4252-fb53-f7acd4a2777d"
      },
      "source": [
        "print(my_phone_tuple)\n",
        "type(my_phone_tuple)"
      ],
      "execution_count": null,
      "outputs": [
        {
          "output_type": "stream",
          "text": [
            "('iphone5s', False, 4.3)\n"
          ],
          "name": "stdout"
        },
        {
          "output_type": "execute_result",
          "data": {
            "text/plain": [
              "tuple"
            ]
          },
          "metadata": {
            "tags": []
          },
          "execution_count": 28
        }
      ]
    },
    {
      "cell_type": "code",
      "metadata": {
        "id": "IgI7pS18i_HG",
        "colab_type": "code",
        "colab": {
          "base_uri": "https://localhost:8080/",
          "height": 34
        },
        "outputId": "acd46cd0-5cdc-4a51-bbdd-cffe7240b53b"
      },
      "source": [
        "print(my_phone_tuple[0:2])"
      ],
      "execution_count": null,
      "outputs": [
        {
          "output_type": "stream",
          "text": [
            "('iphone5s', False)\n"
          ],
          "name": "stdout"
        }
      ]
    },
    {
      "cell_type": "code",
      "metadata": {
        "id": "nKuVagfrjTcY",
        "colab_type": "code",
        "colab": {
          "base_uri": "https://localhost:8080/",
          "height": 68
        },
        "outputId": "e67e0c5b-8e77-44bd-b266-3a7dd5d5709b"
      },
      "source": [
        "for data in my_phone_tuple:\n",
        "    print(data)"
      ],
      "execution_count": null,
      "outputs": [
        {
          "output_type": "stream",
          "text": [
            "iphone5s\n",
            "False\n",
            "4.3\n"
          ],
          "name": "stdout"
        }
      ]
    },
    {
      "cell_type": "code",
      "metadata": {
        "id": "HN9AEV9xjdT4",
        "colab_type": "code",
        "colab": {}
      },
      "source": [
        "\"\"\"type error:tuple object doesnot support item assignment\"\"\"\n",
        "my_phone_tuple[2] = 4 "
      ],
      "execution_count": null,
      "outputs": []
    },
    {
      "cell_type": "code",
      "metadata": {
        "id": "YS6Q0ZaCj1PT",
        "colab_type": "code",
        "colab": {}
      },
      "source": [
        "import time"
      ],
      "execution_count": null,
      "outputs": []
    },
    {
      "cell_type": "code",
      "metadata": {
        "id": "d6oWAopXkUlM",
        "colab_type": "code",
        "colab": {
          "base_uri": "https://localhost:8080/",
          "height": 34
        },
        "outputId": "e64b5d28-ed24-4f04-e129-9717eb9a94e6"
      },
      "source": [
        "tic = time.time()\n",
        "print(tic)"
      ],
      "execution_count": null,
      "outputs": [
        {
          "output_type": "stream",
          "text": [
            "1592404104.7999313\n"
          ],
          "name": "stdout"
        }
      ]
    },
    {
      "cell_type": "code",
      "metadata": {
        "id": "G2Dw3PMxrl_g",
        "colab_type": "code",
        "colab": {
          "base_uri": "https://localhost:8080/",
          "height": 34
        },
        "outputId": "1dfcebf6-fb3f-4ddb-c300-b5d58cd30a25"
      },
      "source": [
        "tic = time.time()\n",
        "# do something that takes time taht is to be measured\n",
        "toc = time.time()\n",
        "print('elapsed time' , toc - tic)"
      ],
      "execution_count": null,
      "outputs": [
        {
          "output_type": "stream",
          "text": [
            "elapsed time 1.7642974853515625e-05\n"
          ],
          "name": "stdout"
        }
      ]
    },
    {
      "cell_type": "code",
      "metadata": {
        "id": "s88ExJZwsN9p",
        "colab_type": "code",
        "colab": {
          "base_uri": "https://localhost:8080/",
          "height": 34
        },
        "outputId": "d1d062e9-b1f1-4fdd-ac61-34419c968939"
      },
      "source": [
        "my_list = list(range(1000000))\n",
        "tic=time.time()\n",
        "my_list_squared = map(lambda i: i**2 , my_list)\n",
        "toc = time.time()\n",
        "print('elapsed time in seconds' , toc-tic)"
      ],
      "execution_count": null,
      "outputs": [
        {
          "output_type": "stream",
          "text": [
            "elapsed time in seconds 7.724761962890625e-05\n"
          ],
          "name": "stdout"
        }
      ]
    },
    {
      "cell_type": "code",
      "metadata": {
        "id": "qS2-PxlotDxI",
        "colab_type": "code",
        "colab": {
          "base_uri": "https://localhost:8080/",
          "height": 34
        },
        "outputId": "2f9116d4-fa5d-4db0-bf17-7699730cfcae"
      },
      "source": [
        "my_tuple = list(range(1000000))\n",
        "tic=time.time()\n",
        "my_tuple_squared = map(lambda i: i**2 , my_tuple)\n",
        "toc = time.time()\n",
        "print('elapsed time in seconds' , toc-tic)"
      ],
      "execution_count": null,
      "outputs": [
        {
          "output_type": "stream",
          "text": [
            "elapsed time in seconds 0.00010943412780761719\n"
          ],
          "name": "stdout"
        }
      ]
    },
    {
      "cell_type": "code",
      "metadata": {
        "id": "AX7plTyftXFL",
        "colab_type": "code",
        "colab": {}
      },
      "source": [
        ""
      ],
      "execution_count": null,
      "outputs": []
    },
    {
      "cell_type": "markdown",
      "metadata": {
        "id": "EINFK95EuAHA",
        "colab_type": "text"
      },
      "source": [
        "#**Sets**"
      ]
    },
    {
      "cell_type": "code",
      "metadata": {
        "id": "1sXdkQDKuDul",
        "colab_type": "code",
        "colab": {}
      },
      "source": [
        "my_set = set(my_phone)"
      ],
      "execution_count": null,
      "outputs": []
    },
    {
      "cell_type": "code",
      "metadata": {
        "id": "FrRVJ9lJuTs3",
        "colab_type": "code",
        "colab": {
          "base_uri": "https://localhost:8080/",
          "height": 34
        },
        "outputId": "e6d4d3b6-7f72-4c23-d956-2f34a24030c2"
      },
      "source": [
        "print(my_set)"
      ],
      "execution_count": null,
      "outputs": [
        {
          "output_type": "stream",
          "text": [
            "{False, 'iPhone 5s', 4}\n"
          ],
          "name": "stdout"
        }
      ]
    },
    {
      "cell_type": "code",
      "metadata": {
        "id": "7xvEwkVjuVg1",
        "colab_type": "code",
        "colab": {}
      },
      "source": [
        "my_phone.append(4.3)"
      ],
      "execution_count": null,
      "outputs": []
    },
    {
      "cell_type": "code",
      "metadata": {
        "id": "AS1ksmbYukCU",
        "colab_type": "code",
        "colab": {
          "base_uri": "https://localhost:8080/",
          "height": 34
        },
        "outputId": "265c3c04-922d-4064-8909-f3e1f542a825"
      },
      "source": [
        "print(my_phone)"
      ],
      "execution_count": null,
      "outputs": [
        {
          "output_type": "stream",
          "text": [
            "['iPhone 5s', False, 4, 4.3]\n"
          ],
          "name": "stdout"
        }
      ]
    },
    {
      "cell_type": "code",
      "metadata": {
        "id": "rPqlAJwmuypS",
        "colab_type": "code",
        "colab": {}
      },
      "source": [
        "my_set = set(my_phone)"
      ],
      "execution_count": null,
      "outputs": []
    },
    {
      "cell_type": "code",
      "metadata": {
        "id": "8r2uG8sRvDK0",
        "colab_type": "code",
        "colab": {
          "base_uri": "https://localhost:8080/",
          "height": 34
        },
        "outputId": "94592a02-fa1d-46ea-f436-e412967c6354"
      },
      "source": [
        "\"\"\"Note: A set only contains unique values\"\"\"\n",
        "print(my_set)"
      ],
      "execution_count": null,
      "outputs": [
        {
          "output_type": "stream",
          "text": [
            "{False, 'iPhone 5s', 4, 4.3}\n"
          ],
          "name": "stdout"
        }
      ]
    },
    {
      "cell_type": "code",
      "metadata": {
        "id": "uNzmmw7ivE-R",
        "colab_type": "code",
        "colab": {
          "base_uri": "https://localhost:8080/",
          "height": 85
        },
        "outputId": "0d94c524-a3d7-4028-cfa3-0421d90d9127"
      },
      "source": [
        "my_list = list(range(1000000))\n",
        "tic=time.time()\n",
        "print(93457 in my_list)\n",
        "print(34827 in my_list)\n",
        "print(555743737 in my_list)\n",
        "toc=time.time()\n",
        "print('elapsed time in seconds' , toc - tic)"
      ],
      "execution_count": null,
      "outputs": [
        {
          "output_type": "stream",
          "text": [
            "True\n",
            "True\n",
            "False\n",
            "elapsed time in seconds 0.013602495193481445\n"
          ],
          "name": "stdout"
        }
      ]
    },
    {
      "cell_type": "code",
      "metadata": {
        "id": "PVJFJOt2v8eW",
        "colab_type": "code",
        "colab": {
          "base_uri": "https://localhost:8080/",
          "height": 85
        },
        "outputId": "08b5cfdc-b384-483a-d14e-363fb79d6a03"
      },
      "source": [
        "my_set = set(range(1000000))\n",
        "tic=time.time()\n",
        "print(93457 in my_set)\n",
        "print(34827 in my_set)\n",
        "print(555743737 in my_set)\n",
        "toc=time.time()\n",
        "print('elapsed time in seconds' , toc - tic)"
      ],
      "execution_count": null,
      "outputs": [
        {
          "output_type": "stream",
          "text": [
            "True\n",
            "True\n",
            "False\n",
            "elapsed time in seconds 0.0005664825439453125\n"
          ],
          "name": "stdout"
        }
      ]
    },
    {
      "cell_type": "code",
      "metadata": {
        "id": "BaTHP_MywIYg",
        "colab_type": "code",
        "colab": {}
      },
      "source": [
        ""
      ],
      "execution_count": null,
      "outputs": []
    },
    {
      "cell_type": "markdown",
      "metadata": {
        "id": "sJFQ_l4xwZjH",
        "colab_type": "text"
      },
      "source": [
        "#**Dictionary**"
      ]
    },
    {
      "cell_type": "code",
      "metadata": {
        "id": "jgb_ACRHwgTj",
        "colab_type": "code",
        "colab": {}
      },
      "source": [
        "my_phone_dict={}"
      ],
      "execution_count": null,
      "outputs": []
    },
    {
      "cell_type": "code",
      "metadata": {
        "id": "Mxf9bsnVw0lA",
        "colab_type": "code",
        "colab": {
          "base_uri": "https://localhost:8080/",
          "height": 34
        },
        "outputId": "26ebd0d3-c650-4222-ffe3-55351f74db99"
      },
      "source": [
        "type(my_phone_dict)"
      ],
      "execution_count": null,
      "outputs": [
        {
          "output_type": "execute_result",
          "data": {
            "text/plain": [
              "dict"
            ]
          },
          "metadata": {
            "tags": []
          },
          "execution_count": 51
        }
      ]
    },
    {
      "cell_type": "code",
      "metadata": {
        "id": "-MiFL7OWw3w9",
        "colab_type": "code",
        "colab": {}
      },
      "source": [
        "my_phone_dict['name'] = 'iphone 5s'\n",
        "my_phone_dict['isAndroid'] = False\n",
        "my_phone_dict['screenSize'] = 4.3"
      ],
      "execution_count": null,
      "outputs": []
    },
    {
      "cell_type": "code",
      "metadata": {
        "id": "IeCeyIX0xMEg",
        "colab_type": "code",
        "colab": {
          "base_uri": "https://localhost:8080/",
          "height": 34
        },
        "outputId": "6627748e-5615-4240-c8d7-8b9501733476"
      },
      "source": [
        "print(my_phone_dict)"
      ],
      "execution_count": null,
      "outputs": [
        {
          "output_type": "stream",
          "text": [
            "{'name': 'iphone 5s', 'isAndroid': False, 'screenSize': 4.3}\n"
          ],
          "name": "stdout"
        }
      ]
    },
    {
      "cell_type": "code",
      "metadata": {
        "id": "6VBp7HI-xSW5",
        "colab_type": "code",
        "colab": {
          "base_uri": "https://localhost:8080/",
          "height": 34
        },
        "outputId": "3ac04100-032c-4e0e-ad36-898182c27968"
      },
      "source": [
        "my_phone_dict['name']"
      ],
      "execution_count": null,
      "outputs": [
        {
          "output_type": "execute_result",
          "data": {
            "text/plain": [
              "'iphone 5s'"
            ]
          },
          "metadata": {
            "tags": []
          },
          "execution_count": 54
        }
      ]
    },
    {
      "cell_type": "code",
      "metadata": {
        "id": "VGRJpLyNxiv7",
        "colab_type": "code",
        "colab": {
          "base_uri": "https://localhost:8080/",
          "height": 34
        },
        "outputId": "9f0d3793-fce0-463d-8e0f-59093fb98f5a"
      },
      "source": [
        "print(my_phone_dict.keys())"
      ],
      "execution_count": null,
      "outputs": [
        {
          "output_type": "stream",
          "text": [
            "dict_keys(['name', 'isAndroid', 'screenSize'])\n"
          ],
          "name": "stdout"
        }
      ]
    },
    {
      "cell_type": "code",
      "metadata": {
        "id": "819Y-agtxnXg",
        "colab_type": "code",
        "colab": {
          "base_uri": "https://localhost:8080/",
          "height": 34
        },
        "outputId": "0479c995-2121-49d5-f2b6-518be3e154d6"
      },
      "source": [
        "print(my_phone_dict.values())"
      ],
      "execution_count": null,
      "outputs": [
        {
          "output_type": "stream",
          "text": [
            "dict_values(['iphone 5s', False, 4.3])\n"
          ],
          "name": "stdout"
        }
      ]
    },
    {
      "cell_type": "code",
      "metadata": {
        "id": "ysO4eUIbxxbo",
        "colab_type": "code",
        "colab": {
          "base_uri": "https://localhost:8080/",
          "height": 34
        },
        "outputId": "39717622-2422-469e-8849-24ded7339de8"
      },
      "source": [
        "print(my_phone_dict.items())"
      ],
      "execution_count": null,
      "outputs": [
        {
          "output_type": "stream",
          "text": [
            "dict_items([('name', 'iphone 5s'), ('isAndroid', False), ('screenSize', 4.3)])\n"
          ],
          "name": "stdout"
        }
      ]
    },
    {
      "cell_type": "code",
      "metadata": {
        "id": "SmwORlphxy_I",
        "colab_type": "code",
        "colab": {
          "base_uri": "https://localhost:8080/",
          "height": 68
        },
        "outputId": "be8c96cc-fd5e-47c0-e4b8-e7d7844932b0"
      },
      "source": [
        "for key in my_phone_dict.keys():\n",
        "    print(key , ':' , my_phone_dict[key])"
      ],
      "execution_count": null,
      "outputs": [
        {
          "output_type": "stream",
          "text": [
            "name : iphone 5s\n",
            "isAndroid : False\n",
            "screenSize : 4.3\n"
          ],
          "name": "stdout"
        }
      ]
    },
    {
      "cell_type": "code",
      "metadata": {
        "id": "9YBjFpZ3yLV4",
        "colab_type": "code",
        "colab": {}
      },
      "source": [
        ""
      ],
      "execution_count": null,
      "outputs": []
    }
  ]
}